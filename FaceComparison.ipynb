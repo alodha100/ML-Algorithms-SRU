{
 "cells": [
  {
   "cell_type": "code",
   "execution_count": null,
   "metadata": {},
   "outputs": [],
   "source": [
    "# pip install cmake\n",
    "# pip install dlib\n",
    "# pip install face_recognition\n",
    "# pip install opencv-python"
   ]
  },
  {
   "cell_type": "code",
   "execution_count": 3,
   "metadata": {},
   "outputs": [],
   "source": [
    "import cv2  #OpenCV\n",
    "import face_recognition as fc  #Facerecognition Library"
   ]
  },
  {
   "cell_type": "code",
   "execution_count": 43,
   "metadata": {},
   "outputs": [
    {
     "name": "stdout",
     "output_type": "stream",
     "text": [
      "[[[ 92  34  30]\n",
      "  [ 89  31  27]\n",
      "  [ 85  27  23]\n",
      "  ...\n",
      "  [114  41  35]\n",
      "  [119  44  39]\n",
      "  [126  51  46]]\n",
      "\n",
      " [[ 92  34  30]\n",
      "  [ 88  30  26]\n",
      "  [ 84  26  22]\n",
      "  ...\n",
      "  [115  42  36]\n",
      "  [121  46  41]\n",
      "  [127  52  47]]\n",
      "\n",
      " [[ 93  36  29]\n",
      "  [ 87  30  23]\n",
      "  [ 82  25  18]\n",
      "  ...\n",
      "  [115  42  36]\n",
      "  [120  45  40]\n",
      "  [126  51  46]]\n",
      "\n",
      " ...\n",
      "\n",
      " [[185 160 156]\n",
      "  [191 166 162]\n",
      "  [196 172 168]\n",
      "  ...\n",
      "  [135 137 134]\n",
      "  [125 127 126]\n",
      "  [116 118 117]]\n",
      "\n",
      " [[184 150 148]\n",
      "  [188 157 154]\n",
      "  [194 165 161]\n",
      "  ...\n",
      "  [125 127 122]\n",
      "  [111 113 110]\n",
      "  [100 102  99]]\n",
      "\n",
      " [[185 147 146]\n",
      "  [189 154 152]\n",
      "  [193 162 159]\n",
      "  ...\n",
      "  [113 115 110]\n",
      "  [ 99 101  98]\n",
      "  [ 87  89  86]]]\n",
      "<class 'numpy.ndarray'>\n"
     ]
    }
   ],
   "source": [
    "image1 = fc.load_image_file('images/BarackObama1.jpg')\n",
    "print(image1)\n",
    "print(type(image1))"
   ]
  },
  {
   "cell_type": "code",
   "execution_count": 44,
   "metadata": {},
   "outputs": [],
   "source": [
    "cv2.imshow('Barack', image1)\n",
    "\n",
    "cv2.waitKey()\n",
    "cv2.destroyAllWindows()"
   ]
  },
  {
   "cell_type": "code",
   "execution_count": 47,
   "metadata": {},
   "outputs": [
    {
     "name": "stdout",
     "output_type": "stream",
     "text": [
      "[[[ 92  34  30]\n",
      "  [ 89  31  27]\n",
      "  [ 85  27  23]\n",
      "  ...\n",
      "  [114  41  35]\n",
      "  [119  44  39]\n",
      "  [126  51  46]]\n",
      "\n",
      " [[ 92  34  30]\n",
      "  [ 88  30  26]\n",
      "  [ 84  26  22]\n",
      "  ...\n",
      "  [115  42  36]\n",
      "  [121  46  41]\n",
      "  [127  52  47]]\n",
      "\n",
      " [[ 93  36  29]\n",
      "  [ 87  30  23]\n",
      "  [ 82  25  18]\n",
      "  ...\n",
      "  [115  42  36]\n",
      "  [120  45  40]\n",
      "  [126  51  46]]\n",
      "\n",
      " ...\n",
      "\n",
      " [[185 160 156]\n",
      "  [191 166 162]\n",
      "  [196 172 168]\n",
      "  ...\n",
      "  [135 137 134]\n",
      "  [125 127 126]\n",
      "  [116 118 117]]\n",
      "\n",
      " [[184 150 148]\n",
      "  [188 157 154]\n",
      "  [194 165 161]\n",
      "  ...\n",
      "  [125 127 122]\n",
      "  [111 113 110]\n",
      "  [100 102  99]]\n",
      "\n",
      " [[185 147 146]\n",
      "  [189 154 152]\n",
      "  [193 162 159]\n",
      "  ...\n",
      "  [113 115 110]\n",
      "  [ 99 101  98]\n",
      "  [ 87  89  86]]]\n",
      "<class 'numpy.ndarray'>\n"
     ]
    }
   ],
   "source": [
    "image2 = fc.load_image_file('images/BarackObama2.jpg')\n",
    "print(image1)\n",
    "print(type(image1))"
   ]
  },
  {
   "cell_type": "code",
   "execution_count": 48,
   "metadata": {},
   "outputs": [],
   "source": [
    "cv2.imshow('Steve Jobs', image2)\n",
    "\n",
    "cv2.waitKey()\n",
    "cv2.destroyAllWindows()"
   ]
  },
  {
   "cell_type": "code",
   "execution_count": 49,
   "metadata": {},
   "outputs": [],
   "source": [
    "image1 = cv2.cvtColor(image1, cv2.COLOR_BGR2RGB)\n",
    "cv2.imshow('Barack', image1)\n",
    "\n",
    "image2 = cv2.cvtColor(image2, cv2.COLOR_BGR2RGB)\n",
    "cv2.imshow('Barack', image2)\n",
    "\n",
    "cv2.waitKey()\n",
    "cv2.destroyAllWindows()\n"
   ]
  },
  {
   "cell_type": "code",
   "execution_count": 50,
   "metadata": {},
   "outputs": [
    {
     "name": "stdout",
     "output_type": "stream",
     "text": [
      "(170, 740, 491, 419)\n"
     ]
    }
   ],
   "source": [
    "face_location1 = fc.face_locations(image1)[0]\n",
    "print(face_location1)"
   ]
  },
  {
   "cell_type": "code",
   "execution_count": 51,
   "metadata": {},
   "outputs": [
    {
     "name": "stdout",
     "output_type": "stream",
     "text": [
      "(56, 354, 163, 247)\n"
     ]
    }
   ],
   "source": [
    "face_location2 = fc.face_locations(image2)[0]\n",
    "print(face_location2)"
   ]
  },
  {
   "cell_type": "code",
   "execution_count": 52,
   "metadata": {},
   "outputs": [
    {
     "name": "stdout",
     "output_type": "stream",
     "text": [
      "(419, 170)\n",
      "(740, 491)\n"
     ]
    }
   ],
   "source": [
    "image1_x1y1 = (face_location1[3], face_location1[0])\n",
    "image1_x2y2 = (face_location1[1], face_location1[2])\n",
    "\n",
    "print(image1_x1y1)\n",
    "print(image1_x2y2)"
   ]
  },
  {
   "cell_type": "code",
   "execution_count": 53,
   "metadata": {},
   "outputs": [
    {
     "name": "stdout",
     "output_type": "stream",
     "text": [
      "(247, 56)\n",
      "(354, 163)\n"
     ]
    }
   ],
   "source": [
    "image2_x1y1 = (face_location2[3], face_location2[0])\n",
    "image2_x2y2 = (face_location2[1], face_location2[2])\n",
    "\n",
    "print(image2_x1y1)\n",
    "print(image2_x2y2)"
   ]
  },
  {
   "cell_type": "code",
   "execution_count": 54,
   "metadata": {},
   "outputs": [
    {
     "name": "stdout",
     "output_type": "stream",
     "text": [
      "[-0.07836477  0.07059104  0.03503565 -0.07424261 -0.00702395  0.00250947\n",
      " -0.0528708  -0.08785082  0.1989921  -0.11086334  0.23935452  0.09204039\n",
      " -0.21912459 -0.13326204  0.07117756  0.08879444 -0.16583574 -0.05121604\n",
      " -0.11221389 -0.10487619  0.03708556  0.00681212  0.13472176 -0.01124198\n",
      " -0.10822314 -0.35323253 -0.07173001 -0.15536651  0.02650305 -0.11373363\n",
      " -0.05930553  0.01738847 -0.18361245 -0.10362038 -0.0094263  -0.04247082\n",
      " -0.0346983  -0.03777081  0.2559599   0.02249065 -0.11669662  0.06066357\n",
      "  0.02336948  0.17186734  0.29884186  0.05019968 -0.01521817 -0.08056507\n",
      "  0.12318266 -0.26659271  0.07480796  0.14080548  0.08514915  0.06062996\n",
      "  0.08915518 -0.16081817  0.01627879  0.07990666 -0.17684299  0.02911123\n",
      "  0.02120306 -0.10716207 -0.07067432  0.04202493  0.20221545  0.13721247\n",
      " -0.09750096 -0.09333619  0.11980648 -0.06884895 -0.00213429  0.04446752\n",
      " -0.18342134 -0.18756396 -0.22649312  0.06083128  0.30475792  0.18197857\n",
      " -0.18052047  0.01326473 -0.20334859  0.01725238  0.06107506  0.00806139\n",
      " -0.06300124 -0.13802204 -0.0142004   0.03418264  0.094239    0.01577974\n",
      " -0.07113209  0.26111129  0.00322121  0.07626615  0.01651537  0.02972849\n",
      " -0.10215016 -0.03808272 -0.15833716 -0.04541347  0.04019364 -0.0515402\n",
      "  0.05466366  0.13826171 -0.24607977  0.09525926 -0.02283496 -0.02134816\n",
      "  0.07343231  0.00074832 -0.03207304 -0.02535819  0.06623596 -0.26111984\n",
      "  0.25289187  0.22990406  0.02905191  0.16932794  0.05687114  0.03698516\n",
      " -0.00871335 -0.00569872 -0.17975567 -0.03534182  0.04614091  0.08003078\n",
      "  0.05054791  0.02549326]\n"
     ]
    }
   ],
   "source": [
    "encoding1 = fc.face_encodings(image1)[0]\n",
    "print(encoding1)"
   ]
  },
  {
   "cell_type": "code",
   "execution_count": 55,
   "metadata": {},
   "outputs": [
    {
     "name": "stdout",
     "output_type": "stream",
     "text": [
      "[-0.07050529  0.17660645  0.04238453 -0.02506509 -0.04612515  0.01927942\n",
      " -0.07294136 -0.01918561  0.18185015 -0.07649928  0.2516914   0.08684783\n",
      " -0.26508188 -0.08788755  0.14593136  0.10183485 -0.24125986 -0.0760298\n",
      " -0.15189445 -0.0467329   0.00467781  0.04675081  0.02918064  0.00170951\n",
      " -0.14671491 -0.33737186 -0.0741742  -0.14359774  0.03074225 -0.1126752\n",
      " -0.0151473  -0.10023655 -0.17896989 -0.12990233  0.01984977 -0.03505253\n",
      " -0.08334775 -0.05482773  0.12578541  0.03235101 -0.14520302  0.04643627\n",
      "  0.03179172  0.25282165  0.23355137  0.06717203  0.03641672 -0.06447294\n",
      "  0.08326177 -0.29681054  0.09482213  0.16569018  0.11773758  0.08447208\n",
      "  0.15644166 -0.14018203  0.02594629  0.17148665 -0.20040748  0.08606169\n",
      "  0.11651418  0.01575623 -0.03270756  0.04092723  0.16877493  0.09660861\n",
      " -0.11236442 -0.11626028  0.11366075 -0.09344783 -0.07206983  0.0585131\n",
      " -0.12609045 -0.24489899 -0.28131431  0.07643466  0.33262253  0.17652409\n",
      " -0.1771773  -0.04741618 -0.10393716 -0.01921829  0.0198365   0.028349\n",
      " -0.07309292 -0.13027005 -0.07444004  0.09517331  0.13579667  0.02316889\n",
      "  0.03955971  0.25517637  0.04160491 -0.09770995  0.00912716  0.07197296\n",
      " -0.11970972 -0.04759356 -0.14735581 -0.0510826   0.07288025 -0.06668631\n",
      " -0.02222721  0.14285114 -0.2220322   0.13748839  0.00744043 -0.07346782\n",
      "  0.0200588  -0.00854912 -0.04934992 -0.02266766  0.12661093 -0.2268234\n",
      "  0.20382534  0.23851311  0.02473112  0.09452683 -0.01433362  0.02345582\n",
      " -0.02151554 -0.04112504 -0.1981065  -0.11745669 -0.0315571   0.01009262\n",
      " -0.0155962  -0.00752462]\n"
     ]
    }
   ],
   "source": [
    "encoding2 = fc.face_encodings(image2)[0]\n",
    "print(encoding2)"
   ]
  },
  {
   "cell_type": "code",
   "execution_count": 56,
   "metadata": {},
   "outputs": [
    {
     "data": {
      "text/plain": [
       "array([[[16,  6,  6],\n",
       "        [16,  6,  6],\n",
       "        [16,  6,  6],\n",
       "        ...,\n",
       "        [18,  9,  6],\n",
       "        [18,  9,  6],\n",
       "        [18,  9,  6]],\n",
       "\n",
       "       [[16,  6,  6],\n",
       "        [16,  6,  6],\n",
       "        [16,  6,  6],\n",
       "        ...,\n",
       "        [18,  9,  6],\n",
       "        [18,  9,  6],\n",
       "        [18,  9,  6]],\n",
       "\n",
       "       [[16,  6,  6],\n",
       "        [16,  6,  6],\n",
       "        [16,  6,  6],\n",
       "        ...,\n",
       "        [18,  9,  6],\n",
       "        [18,  9,  6],\n",
       "        [18,  9,  6]],\n",
       "\n",
       "       ...,\n",
       "\n",
       "       [[19, 10,  6],\n",
       "        [19, 10,  6],\n",
       "        [20, 11,  8],\n",
       "        ...,\n",
       "        [25, 14, 16],\n",
       "        [25, 14, 16],\n",
       "        [26, 15, 17]],\n",
       "\n",
       "       [[18,  9,  5],\n",
       "        [18,  9,  5],\n",
       "        [19, 10,  7],\n",
       "        ...,\n",
       "        [25, 14, 16],\n",
       "        [25, 14, 16],\n",
       "        [26, 15, 17]],\n",
       "\n",
       "       [[18,  9,  5],\n",
       "        [18,  9,  5],\n",
       "        [18,  9,  6],\n",
       "        ...,\n",
       "        [25, 14, 16],\n",
       "        [25, 14, 16],\n",
       "        [26, 15, 17]]], dtype=uint8)"
      ]
     },
     "execution_count": 56,
     "metadata": {},
     "output_type": "execute_result"
    }
   ],
   "source": [
    "cv2.rectangle(image1, image1_x1y1, image1_x2y2, (255, 0, 255), 2)\n",
    "cv2.rectangle(image2, image2_x1y1, image2_x2y2, (255, 0, 255), 2)"
   ]
  },
  {
   "cell_type": "code",
   "execution_count": 57,
   "metadata": {},
   "outputs": [],
   "source": [
    "cv2.imshow('Barack', image2)\n",
    "cv2.waitKey()\n",
    "cv2.destroyAllWindows()"
   ]
  },
  {
   "cell_type": "code",
   "execution_count": 58,
   "metadata": {},
   "outputs": [
    {
     "name": "stdout",
     "output_type": "stream",
     "text": [
      "[True]\n"
     ]
    }
   ],
   "source": [
    "result = fc.compare_faces([encoding1], encoding2)\n",
    "print(result)"
   ]
  },
  {
   "cell_type": "code",
   "execution_count": 59,
   "metadata": {},
   "outputs": [
    {
     "data": {
      "text/plain": [
       "array([[[16,  6,  6],\n",
       "        [16,  6,  6],\n",
       "        [16,  6,  6],\n",
       "        ...,\n",
       "        [18,  9,  6],\n",
       "        [18,  9,  6],\n",
       "        [18,  9,  6]],\n",
       "\n",
       "       [[16,  6,  6],\n",
       "        [16,  6,  6],\n",
       "        [16,  6,  6],\n",
       "        ...,\n",
       "        [18,  9,  6],\n",
       "        [18,  9,  6],\n",
       "        [18,  9,  6]],\n",
       "\n",
       "       [[16,  6,  6],\n",
       "        [16,  6,  6],\n",
       "        [16,  6,  6],\n",
       "        ...,\n",
       "        [18,  9,  6],\n",
       "        [18,  9,  6],\n",
       "        [18,  9,  6]],\n",
       "\n",
       "       ...,\n",
       "\n",
       "       [[19, 10,  6],\n",
       "        [19, 10,  6],\n",
       "        [20, 11,  8],\n",
       "        ...,\n",
       "        [25, 14, 16],\n",
       "        [25, 14, 16],\n",
       "        [26, 15, 17]],\n",
       "\n",
       "       [[18,  9,  5],\n",
       "        [18,  9,  5],\n",
       "        [19, 10,  7],\n",
       "        ...,\n",
       "        [25, 14, 16],\n",
       "        [25, 14, 16],\n",
       "        [26, 15, 17]],\n",
       "\n",
       "       [[18,  9,  5],\n",
       "        [18,  9,  5],\n",
       "        [18,  9,  6],\n",
       "        ...,\n",
       "        [25, 14, 16],\n",
       "        [25, 14, 16],\n",
       "        [26, 15, 17]]], dtype=uint8)"
      ]
     },
     "execution_count": 59,
     "metadata": {},
     "output_type": "execute_result"
    }
   ],
   "source": [
    "if(result[0] == False):\n",
    "    result = 'Person is Different'\n",
    "else:\n",
    "    result = 'Person is Same'\n",
    "\n",
    "cv2.putText(image2, f'{result}', (30, 50), cv2.FONT_HERSHEY_COMPLEX, 1, (0, 255, 255), 2)"
   ]
  },
  {
   "cell_type": "code",
   "execution_count": 60,
   "metadata": {},
   "outputs": [],
   "source": [
    "\n",
    "cv2.imshow('Barack Obama', image1)\n",
    "cv2.imshow('Steve Jobs', image2)\n",
    "cv2.waitKey()\n",
    "cv2.destroyAllWindows()"
   ]
  },
  {
   "cell_type": "code",
   "execution_count": null,
   "metadata": {},
   "outputs": [],
   "source": []
  }
 ],
 "metadata": {
  "kernelspec": {
   "display_name": "Python 3.7.7 64-bit",
   "language": "python",
   "name": "python37764bita4733febe18e46b884ecda8278b629b1"
  },
  "language_info": {
   "codemirror_mode": {
    "name": "ipython",
    "version": 3
   },
   "file_extension": ".py",
   "mimetype": "text/x-python",
   "name": "python",
   "nbconvert_exporter": "python",
   "pygments_lexer": "ipython3",
   "version": "3.7.7"
  }
 },
 "nbformat": 4,
 "nbformat_minor": 4
}
