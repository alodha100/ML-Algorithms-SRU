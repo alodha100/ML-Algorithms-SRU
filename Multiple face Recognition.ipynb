{
 "cells": [
  {
   "cell_type": "code",
   "execution_count": 14,
   "metadata": {},
   "outputs": [],
   "source": [
    "import cv2\n",
    "import face_recognition as fc"
   ]
  },
  {
   "cell_type": "code",
   "execution_count": 15,
   "metadata": {},
   "outputs": [],
   "source": [
    "image = fc.load_image_file('images/group_of_people.jpg')"
   ]
  },
  {
   "cell_type": "code",
   "execution_count": 16,
   "metadata": {},
   "outputs": [
    {
     "name": "stdout",
     "output_type": "stream",
     "text": [
      "[[[106 118 104]\n",
      "  [106 118 104]\n",
      "  [105 117 103]\n",
      "  ...\n",
      "  [ 81  86  28]\n",
      "  [ 80  85  27]\n",
      "  [ 80  85  27]]\n",
      "\n",
      " [[108 120 106]\n",
      "  [107 119 105]\n",
      "  [106 118 104]\n",
      "  ...\n",
      "  [ 81  86  28]\n",
      "  [ 80  85  27]\n",
      "  [ 80  85  27]]\n",
      "\n",
      " [[109 121 107]\n",
      "  [109 121 107]\n",
      "  [108 120 106]\n",
      "  ...\n",
      "  [ 82  87  29]\n",
      "  [ 81  86  28]\n",
      "  [ 81  86  28]]\n",
      "\n",
      " ...\n",
      "\n",
      " [[  1   6  25]\n",
      "  [  1   6  25]\n",
      "  [  0   6  24]\n",
      "  ...\n",
      "  [179 125 139]\n",
      "  [185 132 148]\n",
      "  [194 141 157]]\n",
      "\n",
      " [[  1   6  25]\n",
      "  [  0   5  24]\n",
      "  [  0   5  24]\n",
      "  ...\n",
      "  [183 129 143]\n",
      "  [188 135 151]\n",
      "  [195 142 158]]\n",
      "\n",
      " [[  2   5  24]\n",
      "  [  0   5  24]\n",
      "  [  0   5  24]\n",
      "  ...\n",
      "  [187 133 147]\n",
      "  [189 136 152]\n",
      "  [195 142 158]]]\n"
     ]
    }
   ],
   "source": [
    "print(image)"
   ]
  },
  {
   "cell_type": "code",
   "execution_count": 17,
   "metadata": {},
   "outputs": [],
   "source": [
    "image = cv2.cvtColor(image, cv2.COLOR_BGR2RGB)"
   ]
  },
  {
   "cell_type": "code",
   "execution_count": 18,
   "metadata": {},
   "outputs": [],
   "source": [
    "face_locations = fc.face_locations(image)"
   ]
  },
  {
   "cell_type": "code",
   "execution_count": 19,
   "metadata": {},
   "outputs": [
    {
     "name": "stdout",
     "output_type": "stream",
     "text": [
      "[(277, 1454, 598, 1133), (613, 1207, 836, 984), (498, 409, 766, 141), (409, 1924, 676, 1657), (468, 735, 736, 468), (428, 902, 614, 716), (268, 2324, 320, 2272)]\n"
     ]
    }
   ],
   "source": [
    "print(face_locations)"
   ]
  },
  {
   "cell_type": "code",
   "execution_count": 21,
   "metadata": {},
   "outputs": [],
   "source": [
    "# x1y1\n",
    "# x2y2\n",
    "for i in range(len(face_locations)):\n",
    "    image = cv2.rectangle(image, (face_locations[i][3], face_locations[i][0]), (face_locations[i][2], face_locations[i][1]), (255, 0, 255), 2)"
   ]
  },
  {
   "cell_type": "code",
   "execution_count": 22,
   "metadata": {},
   "outputs": [],
   "source": [
    "cv2.imshow('Group of Pleople', image)\n",
    "\n",
    "cv2.waitKey()\n",
    "cv2.destroyAllWindows()"
   ]
  },
  {
   "cell_type": "code",
   "execution_count": null,
   "metadata": {},
   "outputs": [],
   "source": []
  }
 ],
 "metadata": {
  "kernelspec": {
   "display_name": "Python 3.7.7 64-bit",
   "language": "python",
   "name": "python37764bita4733febe18e46b884ecda8278b629b1"
  },
  "language_info": {
   "codemirror_mode": {
    "name": "ipython",
    "version": 3
   },
   "file_extension": ".py",
   "mimetype": "text/x-python",
   "name": "python",
   "nbconvert_exporter": "python",
   "pygments_lexer": "ipython3",
   "version": "3.7.7"
  }
 },
 "nbformat": 4,
 "nbformat_minor": 4
}
