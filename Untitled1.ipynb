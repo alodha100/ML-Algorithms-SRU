{
 "cells": [
  {
   "cell_type": "code",
   "execution_count": 1,
   "metadata": {},
   "outputs": [],
   "source": [
    "import matplotlib.image as img"
   ]
  },
  {
   "cell_type": "code",
   "execution_count": 2,
   "metadata": {},
   "outputs": [],
   "source": [
    "image = img.imread('images/BarackObama1.jpg')"
   ]
  },
  {
   "cell_type": "code",
   "execution_count": 3,
   "metadata": {},
   "outputs": [
    {
     "name": "stdout",
     "output_type": "stream",
     "text": [
      "[[[ 92  34  30]\n",
      "  [ 89  31  27]\n",
      "  [ 85  27  23]\n",
      "  ...\n",
      "  [114  41  35]\n",
      "  [119  44  39]\n",
      "  [126  51  46]]\n",
      "\n",
      " [[ 92  34  30]\n",
      "  [ 88  30  26]\n",
      "  [ 84  26  22]\n",
      "  ...\n",
      "  [115  42  36]\n",
      "  [121  46  41]\n",
      "  [127  52  47]]\n",
      "\n",
      " [[ 93  36  29]\n",
      "  [ 87  30  23]\n",
      "  [ 82  25  18]\n",
      "  ...\n",
      "  [115  42  36]\n",
      "  [120  45  40]\n",
      "  [126  51  46]]\n",
      "\n",
      " ...\n",
      "\n",
      " [[185 160 156]\n",
      "  [191 166 162]\n",
      "  [196 172 168]\n",
      "  ...\n",
      "  [135 137 134]\n",
      "  [125 127 126]\n",
      "  [116 118 117]]\n",
      "\n",
      " [[184 150 148]\n",
      "  [188 157 154]\n",
      "  [194 165 161]\n",
      "  ...\n",
      "  [125 127 122]\n",
      "  [111 113 110]\n",
      "  [100 102  99]]\n",
      "\n",
      " [[185 147 146]\n",
      "  [189 154 152]\n",
      "  [193 162 159]\n",
      "  ...\n",
      "  [113 115 110]\n",
      "  [ 99 101  98]\n",
      "  [ 87  89  86]]]\n"
     ]
    }
   ],
   "source": [
    "print(image)"
   ]
  },
  {
   "cell_type": "code",
   "execution_count": 4,
   "metadata": {},
   "outputs": [
    {
     "name": "stdout",
     "output_type": "stream",
     "text": [
      "3\n"
     ]
    }
   ],
   "source": [
    "print(image.ndim)"
   ]
  },
  {
   "cell_type": "code",
   "execution_count": 5,
   "metadata": {},
   "outputs": [
    {
     "name": "stdout",
     "output_type": "stream",
     "text": [
      "3605700\n"
     ]
    }
   ],
   "source": [
    "print(image.size)"
   ]
  },
  {
   "cell_type": "code",
   "execution_count": 6,
   "metadata": {},
   "outputs": [
    {
     "name": "stdout",
     "output_type": "stream",
     "text": [
      "(1010, 1190, 3)\n"
     ]
    }
   ],
   "source": [
    "print(image.shape)"
   ]
  },
  {
   "cell_type": "code",
   "execution_count": 7,
   "metadata": {},
   "outputs": [],
   "source": [
    "import cv2"
   ]
  },
  {
   "cell_type": "code",
   "execution_count": 16,
   "metadata": {},
   "outputs": [
    {
     "name": "stdout",
     "output_type": "stream",
     "text": [
      "3\n"
     ]
    }
   ],
   "source": [
    "image2 = cv2.imread('images/SteveJobs.jpg')\n",
    "print(image2.ndim)"
   ]
  },
  {
   "cell_type": "code",
   "execution_count": 17,
   "metadata": {},
   "outputs": [],
   "source": [
    "cv2.imshow('Steve', image2)\n",
    "\n",
    "cv2.waitKey()\n",
    "cv2.destroyAllWindows()"
   ]
  },
  {
   "cell_type": "code",
   "execution_count": null,
   "metadata": {},
   "outputs": [],
   "source": []
  }
 ],
 "metadata": {
  "kernelspec": {
   "display_name": "Python 3.7.7 64-bit",
   "language": "python",
   "name": "python37764bita4733febe18e46b884ecda8278b629b1"
  },
  "language_info": {
   "codemirror_mode": {
    "name": "ipython",
    "version": 3
   },
   "file_extension": ".py",
   "mimetype": "text/x-python",
   "name": "python",
   "nbconvert_exporter": "python",
   "pygments_lexer": "ipython3",
   "version": "3.7.7"
  }
 },
 "nbformat": 4,
 "nbformat_minor": 4
}
